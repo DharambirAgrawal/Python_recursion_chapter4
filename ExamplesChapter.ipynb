{
 "cells": [
  {
   "cell_type": "markdown",
   "metadata": {},
   "source": [
    "Always look at the base case while performing recursive function"
   ]
  },
  {
   "cell_type": "code",
   "execution_count": 1,
   "metadata": {},
   "outputs": [
    {
     "data": {
      "text/plain": [
       "16"
      ]
     },
     "execution_count": 1,
     "metadata": {},
     "output_type": "execute_result"
    }
   ],
   "source": [
    "#4.11\n",
    "\n",
    "def power(x,n):\n",
    "    if n==0:\n",
    "        return 1\n",
    "    else:\n",
    "        return x *power(x,n-1)\n",
    "\n",
    "power(2,4)\n"
   ]
  },
  {
   "cell_type": "code",
   "execution_count": 5,
   "metadata": {},
   "outputs": [
    {
     "name": "stdout",
     "output_type": "stream",
     "text": [
      "2 5\n",
      "2 2\n",
      "2 1\n",
      "2 0\n",
      "1\n",
      "2\n",
      "4\n"
     ]
    },
    {
     "data": {
      "text/plain": [
       "32"
      ]
     },
     "execution_count": 5,
     "metadata": {},
     "output_type": "execute_result"
    }
   ],
   "source": [
    "#4.12\n",
    "\n",
    "def power(x,n):\n",
    "    print(x,n)\n",
    "    if n==0:\n",
    "        return 1\n",
    "    else:\n",
    "        partial=power(x,n//2)\n",
    "        print(partial)\n",
    "        result=partial*partial\n",
    "        if n%2==1:\n",
    "            result *=x\n",
    "        return result\n",
    "\n",
    "power(2,5)"
   ]
  },
  {
   "cell_type": "code",
   "execution_count": 7,
   "metadata": {},
   "outputs": [
    {
     "name": "stdout",
     "output_type": "stream",
     "text": [
      "[6, 5, 34, 2, 1]\n"
     ]
    }
   ],
   "source": [
    "#4.10\n",
    "\n",
    "def reverse(S,start,stop):\n",
    "    if start<stop-1:\n",
    "        S[start],S[stop-1]=S[stop-1],S[start]\n",
    "        reverse(S,start+1,stop-1)\n",
    "S=[1,2,34,5,6]\n",
    "reverse(S,0,len(S))\n",
    "print(S)"
   ]
  },
  {
   "cell_type": "code",
   "execution_count": 1,
   "metadata": {},
   "outputs": [
    {
     "data": {
      "text/plain": [
       "16"
      ]
     },
     "execution_count": 1,
     "metadata": {},
     "output_type": "execute_result"
    }
   ],
   "source": [
    "#4.12\n",
    "\n",
    "def power(x,n):\n",
    "\n",
    "    if n==0:\n",
    "        return 1\n",
    "    else:\n",
    "        partial=power(x,n//2)\n",
    "        result=partial*partial\n",
    "        if n%2 == 1:\n",
    "            result *= x\n",
    "        return result\n",
    "    \n",
    "power(2,4)\n"
   ]
  }
 ],
 "metadata": {
  "kernelspec": {
   "display_name": "Python 3",
   "language": "python",
   "name": "python3"
  },
  "language_info": {
   "codemirror_mode": {
    "name": "ipython",
    "version": 3
   },
   "file_extension": ".py",
   "mimetype": "text/x-python",
   "name": "python",
   "nbconvert_exporter": "python",
   "pygments_lexer": "ipython3",
   "version": "3.12.1"
  }
 },
 "nbformat": 4,
 "nbformat_minor": 2
}
