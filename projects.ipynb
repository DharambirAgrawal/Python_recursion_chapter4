{
 "cells": [
  {
   "cell_type": "markdown",
   "metadata": {},
   "source": [
    "Write a program for solving summation puzzles by enumerating and testing all possible configurations. Using your program, solve the three puzzles given in Section 4.4.3."
   ]
  },
  {
   "cell_type": "code",
   "execution_count": 21,
   "metadata": {},
   "outputs": [
    {
     "name": "stdout",
     "output_type": "stream",
     "text": [
      "[3]\n",
      "[2, 3]\n",
      "[2]\n",
      "[3, 2]\n",
      "[1, 2, 3]\n",
      "[1, 3, 2]\n",
      "[3]\n",
      "[1, 3]\n",
      "[1]\n",
      "[3, 1]\n",
      "[2, 1, 3]\n",
      "[2, 3, 1]\n",
      "[2]\n",
      "[1, 2]\n",
      "[1]\n",
      "[2, 1]\n",
      "[3, 1, 2]\n",
      "[3, 2, 1]\n",
      "[[1, 2, 3], [1, 3, 2], [2, 1, 3], [2, 3, 1], [3, 1, 2], [3, 2, 1]]\n"
     ]
    }
   ],
   "source": [
    "# by GPT\n",
    "def permutation(S):\n",
    "    # Base case: if S is empty, return an empty permutation\n",
    "    if len(S) == 0:\n",
    "        return [[]]\n",
    "    \n",
    "    # Recursive case: find permutations for the rest of the list\n",
    "    result = []\n",
    "    for i in range(len(S)):\n",
    "        # Pick one element from the list\n",
    "        current = S[i]\n",
    "        \n",
    "        # Get the remaining elements\n",
    "        remaining = S[:i] + S[i+1:]\n",
    "        # print(remaining)\n",
    "        \n",
    "        # Generate all permutations for the remaining elements\n",
    "        remaining_permutations = permutation(remaining)\n",
    "        \n",
    "        # Add the current element to each of the permutations of the remaining elements\n",
    "        for perm in remaining_permutations:\n",
    "            print([current] + perm)\n",
    "            result.append([current] + perm)\n",
    "    \n",
    "    return result\n",
    "\n",
    "# Example usage\n",
    "L = [1, 2, 3]\n",
    "result = permutation(L)\n",
    "print(result)\n",
    "\n"
   ]
  }
 ],
 "metadata": {
  "kernelspec": {
   "display_name": "Python 3",
   "language": "python",
   "name": "python3"
  },
  "language_info": {
   "codemirror_mode": {
    "name": "ipython",
    "version": 3
   },
   "file_extension": ".py",
   "mimetype": "text/x-python",
   "name": "python",
   "nbconvert_exporter": "python",
   "pygments_lexer": "ipython3",
   "version": "3.12.1"
  }
 },
 "nbformat": 4,
 "nbformat_minor": 2
}
