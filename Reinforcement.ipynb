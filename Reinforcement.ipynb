{
 "cells": [
  {
   "cell_type": "markdown",
   "metadata": {},
   "source": [
    "Describe a recursive algorithm for finding the maximum element in a sequence, S,ofn elements. What is your running time and space usage?"
   ]
  },
  {
   "cell_type": "code",
   "execution_count": null,
   "metadata": {
    "vscode": {
     "languageId": "plaintext"
    }
   },
   "outputs": [],
   "source": [
    "print(\"hello\")"
   ]
  },
  {
   "cell_type": "markdown",
   "metadata": {},
   "source": [
    "Draw the recursion trace for the computation of power(2,5), using the traditional function implemented in Code Fragment 4.11."
   ]
  },
  {
   "cell_type": "markdown",
   "metadata": {},
   "source": [
    "Draw the recursion trace for the computation of power(2,18),using the repeated squaring algorithm, as implemented in Code Fragment 4.12."
   ]
  },
  {
   "cell_type": "markdown",
   "metadata": {},
   "source": [
    "Draw the recursion trace for the execution of function reverse(S, 0, 5) (Code Fragment 4.10) on S=[4,3,6,2,6]."
   ]
  },
  {
   "cell_type": "markdown",
   "metadata": {},
   "source": [
    "Drawtherecursion trace for the execution of function PuzzleSolve(3,S,U) (Code Fragment 4.14), where S is empty andU = {a,b,c,d}."
   ]
  },
  {
   "cell_type": "markdown",
   "metadata": {},
   "source": [
    "Describe a recursive function for computing the nth Harmonic number,\n",
    " Hn =∑n\n",
    " i=11/i."
   ]
  },
  {
   "cell_type": "markdown",
   "metadata": {},
   "source": [
    "Describe a recursive function for converting a string of digits into the integer it represents. For example, 13531 represents the integer 13,531."
   ]
  },
  {
   "cell_type": "markdown",
   "metadata": {},
   "source": [
    "Isabel has an interesting way of summing up the values in a sequence A of n integers, where n is a power of two. She creates a new sequence B of half the size of A and sets B[i]=A[2i]+A[2i+1],fori = 0,1,...,(n/2)−1. If B has size 1, then she outputs B[0]. Otherwise, she replaces A with B,and repeats the process. What is the running time of her algorithm?"
   ]
  }
 ],
 "metadata": {
  "language_info": {
   "name": "python"
  }
 },
 "nbformat": 4,
 "nbformat_minor": 2
}
