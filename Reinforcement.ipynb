{
 "cells": [
  {
   "cell_type": "markdown",
   "metadata": {},
   "source": [
    "Describe a recursive algorithm for finding the maximum element in a sequence, S,of n elements. What is your running time and space usage?"
   ]
  },
  {
   "cell_type": "code",
   "execution_count": 13,
   "metadata": {},
   "outputs": [
    {
     "name": "stdout",
     "output_type": "stream",
     "text": [
      "6\n"
     ]
    }
   ],
   "source": [
    "def find_max(S,n,max):\n",
    "    if n==0:\n",
    "        return max\n",
    "    \n",
    "    if max< S[n]:\n",
    "        return find_max(S,n-1,S[n])\n",
    "    else:\n",
    "        return find_max(S,n-1,max)\n",
    "    \n",
    "\n",
    "\n",
    "S=[6,0,5,3,7,2,64,2,89,7]\n",
    "a=find_max(S,len(S)-1,S[0])\n",
    "print(a)\n",
    "\n",
    "# timeComplexity O(n)\n",
    "# spaceComplexity O(n)\n"
   ]
  },
  {
   "cell_type": "markdown",
   "metadata": {},
   "source": [
    "Draw the recursion trace for the computation of power(2,5), using the traditional function implemented in Code Fragment 4.11."
   ]
  },
  {
   "cell_type": "code",
   "execution_count": null,
   "metadata": {},
   "outputs": [],
   "source": [
    "# here is visualization\n",
    "# power(2, 4)\n",
    "#   -> 2 * power(2, 3)\n",
    "#       -> 2 * power(2, 2)\n",
    "#           -> 2 * power(2, 1)\n",
    "#               -> 2 * power(2, 0)\n",
    "#                   -> 1 (base case)\n",
    "#               <- 2\n",
    "#           <- 4\n",
    "#       <- 8\n",
    "#   <- 16\n"
   ]
  },
  {
   "cell_type": "markdown",
   "metadata": {},
   "source": [
    "Draw the recursion trace for the computation of power(2,18),using the repeated squaring algorithm, as implemented in Code Fragment 4.12."
   ]
  },
  {
   "cell_type": "code",
   "execution_count": null,
   "metadata": {},
   "outputs": [],
   "source": [
    "def power(x,n):\n",
    "    print(x,n)\n",
    "    if n==0:\n",
    "        return 1\n",
    "    else:\n",
    "        partial=power(x,n//2)\n",
    "        print(partial)\n",
    "        result=partial*partial\n",
    "        if n%2==1:\n",
    "            result *=x\n",
    "        return result\n",
    "\n",
    "power(2,5)"
   ]
  },
  {
   "cell_type": "markdown",
   "metadata": {},
   "source": [
    "Draw the recursion trace for the execution of function reverse(S, 0, 5) (Code Fragment 4.10) on S=[4,3,6,2,6]."
   ]
  },
  {
   "cell_type": "code",
   "execution_count": null,
   "metadata": {},
   "outputs": [],
   "source": [
    "# here is visualization\n",
    "# reverse(S=[4,3,6,2,6], 0,5)\n",
    "#   ->  reverse(S=[6,3,6,2,4],1, 4)\n",
    "#       -> reverse(S=[6,2,6,3,4],2, 3)\n",
    "#           ->  reverse(S=[5,5,6,3,4],3, 2) (base case since 3>2)\n",
    "#                  "
   ]
  },
  {
   "cell_type": "markdown",
   "metadata": {},
   "source": [
    "Describe a recursive function for computing the nth Harmonic number,\n",
    " Hn =∑n  1/i\n",
    "      i=1"
   ]
  },
  {
   "cell_type": "code",
   "execution_count": 14,
   "metadata": {},
   "outputs": [
    {
     "data": {
      "text/plain": [
       "1.8333333333333333"
      ]
     },
     "execution_count": 14,
     "metadata": {},
     "output_type": "execute_result"
    }
   ],
   "source": [
    "# for i =3\n",
    "    # 1/1 + 1/2 + 1/3\n",
    "def harmonic(n):\n",
    "    if n==1:\n",
    "        return 1\n",
    "    \n",
    "    return 1/n + harmonic(n-1)\n",
    "\n",
    "harmonic(3)\n"
   ]
  },
  {
   "cell_type": "markdown",
   "metadata": {},
   "source": [
    "Describe a recursive function for converting a string of digits into the integer it represents. For example, 13531 represents the integer 13,531."
   ]
  },
  {
   "cell_type": "code",
   "execution_count": 37,
   "metadata": {},
   "outputs": [
    {
     "name": "stdout",
     "output_type": "stream",
     "text": [
      "123452 <class 'int'>\n"
     ]
    }
   ],
   "source": [
    "def conv_num(str,ord):\n",
    "    if len(str) == 0:\n",
    "        return 0\n",
    "    return int(str[len(str)-1]) * ord+ conv_num(str[:-1],ord*10)\n",
    "str='123452'    \n",
    "\n",
    "a=conv_num(str,1)\n",
    "print(a,type(a))"
   ]
  },
  {
   "cell_type": "markdown",
   "metadata": {},
   "source": [
    "Isabel has an interesting way of summing up the values in a sequence A of n integers, where n is a power of two. She creates a new sequence B of half the size of A and sets B[i]=A[2i]+A[2i+1],for i = 0,1,...,(n/2)−1. If B has size 1, then she outputs B[0]. Otherwise, she replaces A with B,and repeats the process. What is the running time of her algorithm?"
   ]
  },
  {
   "cell_type": "code",
   "execution_count": null,
   "metadata": {},
   "outputs": [],
   "source": [
    "\n",
    "# There are total log n levels, and the total number of operations performed per level is n.\n",
    "# so running time is O(n log(n))"
   ]
  }
 ],
 "metadata": {
  "kernelspec": {
   "display_name": "Python 3",
   "language": "python",
   "name": "python3"
  },
  "language_info": {
   "codemirror_mode": {
    "name": "ipython",
    "version": 3
   },
   "file_extension": ".py",
   "mimetype": "text/x-python",
   "name": "python",
   "nbconvert_exporter": "python",
   "pygments_lexer": "ipython3",
   "version": "3.12.1"
  }
 },
 "nbformat": 4,
 "nbformat_minor": 2
}
