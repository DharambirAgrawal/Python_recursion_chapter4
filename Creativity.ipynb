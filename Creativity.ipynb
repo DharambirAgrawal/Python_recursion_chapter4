{
 "cells": [
  {
   "cell_type": "markdown",
   "metadata": {},
   "source": [
    "Write a short recursive Python function that finds the minimum and maximum values in a sequence without using any loops."
   ]
  },
  {
   "cell_type": "code",
   "execution_count": 1,
   "metadata": {},
   "outputs": [
    {
     "name": "stdout",
     "output_type": "stream",
     "text": [
      "(1, 10)\n"
     ]
    }
   ],
   "source": [
    "def min_max(S,min,max):\n",
    "    if len(S) == 1:\n",
    "        return min,max\n",
    "    if max < S[len(S)-1]:\n",
    "        return min_max(S[:-1],min,S[len(S)-1])\n",
    "    if min > S[len(S)-1]:\n",
    "        return min_max(S[:-1],S[len(S)-1],max)\n",
    "    \n",
    "    return min_max(S[:-1],min,max)  \n",
    "\n",
    "S=[6,1,4,2,10,3,7]\n",
    "a=min_max(S,S[0],S[0])\n",
    "print(a)\n",
    "    \n"
   ]
  },
  {
   "cell_type": "markdown",
   "metadata": {},
   "source": [
    "Describe a recursive algorithm to compute the integer part of the base-two logarithm of n using only addition and integer division."
   ]
  },
  {
   "cell_type": "code",
   "execution_count": 12,
   "metadata": {},
   "outputs": [
    {
     "data": {
      "text/plain": [
       "1"
      ]
     },
     "execution_count": 12,
     "metadata": {},
     "output_type": "execute_result"
    }
   ],
   "source": [
    "def log_base_2(n):\n",
    "    if n <= 1:\n",
    "        return 0\n",
    "    \n",
    "    return 1 + log_base_2(n//2)\n",
    "\n",
    "log_base_2(20)\n",
    "    "
   ]
  },
  {
   "cell_type": "markdown",
   "metadata": {},
   "source": [
    "Describe an efficient recursive function for solving the element uniqueness problem, which runs in time that is at most O(n^2) in the worst case without using sorting."
   ]
  },
  {
   "cell_type": "code",
   "execution_count": 26,
   "metadata": {},
   "outputs": [
    {
     "data": {
      "text/plain": [
       "False"
      ]
     },
     "execution_count": 26,
     "metadata": {},
     "output_type": "execute_result"
    }
   ],
   "source": [
    "def unique(S):\n",
    "    if len(S)==1:\n",
    "        return True\n",
    "    for i in range(1,len(S)):\n",
    "        if S[0]==S[i]:\n",
    "            return False\n",
    "    return unique(S[1:])\n",
    "\n",
    "S=[6,7,3,7,5,6,4,3,3,4]\n",
    "unique(S)\n"
   ]
  },
  {
   "cell_type": "markdown",
   "metadata": {},
   "source": [
    "Give a recursive algorithm to compute the product of two positive integers,m and n, using only addition and subtraction."
   ]
  },
  {
   "cell_type": "code",
   "execution_count": 5,
   "metadata": {},
   "outputs": [
    {
     "data": {
      "text/plain": [
       "80"
      ]
     },
     "execution_count": 5,
     "metadata": {},
     "output_type": "execute_result"
    }
   ],
   "source": [
    "# 5x3= 15 = 5+5+5 \n",
    "def product (m,n):\n",
    "    if n==0:\n",
    "        return 0\n",
    "    return m + product(m,n-1)\n",
    "\n",
    "product(10,8)\n",
    "\n"
   ]
  },
  {
   "cell_type": "code",
   "execution_count": null,
   "metadata": {},
   "outputs": [],
   "source": []
  },
  {
   "cell_type": "markdown",
   "metadata": {},
   "source": [
    "In the Towers of Hanoi puzzle, we are given a platform with three pegs, a,b,andc, sticking out of it. On peg a is a stack of n disks, each larger than the next, so that the smallest is on the top and the largest is on the bottom.The puzzle is to move all the disks from peg a to peg c, moving one disk at a time, so that we never place a larger disk on top of a smaller one. See Figure 4.15 for an example of the case n = 4. Describe a recursive algorithm for solving the Towers of Hanoi puzzle for arbitrary n. (: Consider first the subproblem of moving all but the nth disk from peg a to another peg using the third as “temporary storage.”)"
   ]
  },
  {
   "cell_type": "code",
   "execution_count": 3,
   "metadata": {},
   "outputs": [
    {
     "name": "stdout",
     "output_type": "stream",
     "text": [
      "None\n"
     ]
    }
   ],
   "source": [
    "\n",
    "def towers_of_hanoi(n, source, destination, auxiliary):\n",
    "    \n",
    "    if n == 1:\n",
    "        print(f\"Move disk 1 from {source} to {destination}\")\n",
    "        return\n",
    "\n",
    "    towers_of_hanoi(n-1, source, auxiliary, destination)\n",
    "    \n",
    "    \n",
    "    print(f\"Move disk {n} from {source} to {destination}\")\n",
    "    \n",
    "\n",
    "    towers_of_hanoi(n-1, auxiliary, destination, source)\n",
    "\n",
    "\n",
    "a=towers_of_hanoi(4, 'a', 'c', 'b')\n",
    "print(a)"
   ]
  },
  {
   "cell_type": "markdown",
   "metadata": {},
   "source": [
    "Write a recursive function that will output all the subsets of a set of n elements (without repeating any subsets)."
   ]
  },
  {
   "cell_type": "code",
   "execution_count": 21,
   "metadata": {},
   "outputs": [
    {
     "name": "stdout",
     "output_type": "stream",
     "text": [
      "[[1], [1, 2], [1, 2, 3], [1, 2, 3, 4], [2], [2, 3], [2, 3, 4], [3], [3, 4], [4], []]\n",
      "11\n"
     ]
    }
   ],
   "source": [
    "# doesn't work\n",
    "s=[]\n",
    "\n",
    "def subset(set,current_subset=[]):\n",
    "    if len(set)==0:\n",
    "        return s.append(current_subset)\n",
    "    for i in range(len(set)):\n",
    "        current_subset.append(set[i])\n",
    "        \n",
    "        s.append(current_subset[:]) \n",
    "       \n",
    "\n",
    "    return subset(set[1:],[])\n",
    "\n",
    "subset([1,2,3,4])\n",
    "\n",
    "print(s)\n",
    "print(len(s))\n"
   ]
  },
  {
   "cell_type": "code",
   "execution_count": 20,
   "metadata": {},
   "outputs": [
    {
     "name": "stdout",
     "output_type": "stream",
     "text": [
      "[[], [4], [3], [3, 4], [2], [2, 4], [2, 3], [2, 3, 4], [1], [1, 4], [1, 3], [1, 3, 4], [1, 2], [1, 2, 4], [1, 2, 3], [1, 2, 3, 4]]\n",
      "16\n"
     ]
    }
   ],
   "source": [
    "s = []  \n",
    "\n",
    "def subset(current_set, current_subset=[]):\n",
    "   \n",
    "    if len(current_set) == 0:\n",
    "        s.append(current_subset)\n",
    "        return\n",
    " \n",
    "    # 1. Exclude the first element from current_set\n",
    "    subset(current_set[1:], current_subset[:])  # Pass a copy of current_subset\n",
    "\n",
    "    # 2. Include the first element in current_set\n",
    "    subset(current_set[1:], current_subset[:] + [current_set[0]])  # Add the element to the subset\n",
    "\n",
    "\n",
    "subset([1, 2, 3, 4])\n",
    "\n",
    "\n",
    "print(s)\n",
    "print(len(s))\n"
   ]
  },
  {
   "cell_type": "markdown",
   "metadata": {},
   "source": [
    "Write a short recursive Python function that takes a character string s and outputs its reverse. For example, the reverse of pots&pans would be snap&stop ."
   ]
  },
  {
   "cell_type": "code",
   "execution_count": 8,
   "metadata": {},
   "outputs": [
    {
     "data": {
      "text/plain": [
       "'snap&stop'"
      ]
     },
     "execution_count": 8,
     "metadata": {},
     "output_type": "execute_result"
    }
   ],
   "source": [
    "\n",
    "def reverse(S):\n",
    "    if len(S)==0:\n",
    "        return \"\"\n",
    "    return   S[-1] +reverse(S[:-1])\n",
    "\n",
    "s=\"pots&pans\"\n",
    "\n",
    "reverse(s)"
   ]
  },
  {
   "cell_type": "markdown",
   "metadata": {},
   "source": [
    "Write a short recursive Python function that determines if a string s is a palindrome, that is, it is equal to its reverse. For example, racecar and gohangasalamiimalasagnahog are palindromes."
   ]
  },
  {
   "cell_type": "code",
   "execution_count": 12,
   "metadata": {},
   "outputs": [
    {
     "data": {
      "text/plain": [
       "False"
      ]
     },
     "execution_count": 12,
     "metadata": {},
     "output_type": "execute_result"
    }
   ],
   "source": [
    "def palindrome(S,start,stop):\n",
    "    \n",
    "    if start >= stop:\n",
    "        return True\n",
    "    if S[start]==S[stop]:\n",
    "        return palindrome(S,start+1,stop-1)\n",
    "    else:\n",
    "        return False\n",
    "\n",
    "\n",
    "s='11110'\n",
    "palindrome(s,0,len(s)-1)"
   ]
  },
  {
   "cell_type": "markdown",
   "metadata": {},
   "source": [
    "Use recursion to write a Python function for determining if a string s has more vowels than consonants."
   ]
  },
  {
   "cell_type": "code",
   "execution_count": 30,
   "metadata": {},
   "outputs": [
    {
     "name": "stdout",
     "output_type": "stream",
     "text": [
      "5 4\n"
     ]
    },
    {
     "data": {
      "text/plain": [
       "True"
      ]
     },
     "execution_count": 30,
     "metadata": {},
     "output_type": "execute_result"
    }
   ],
   "source": [
    "v=['a','e','i','o','u']\n",
    "\n",
    "def is_more_vowels(S,original,count=0):\n",
    "    if len(S)==0:\n",
    "        if len(original) //2 < count:\n",
    "            return True\n",
    "        return False  \n",
    "    if S[0].lower() in v:\n",
    "        count+=1\n",
    "        return is_more_vowels(S[1:],original,count)\n",
    "    return is_more_vowels(S[1:],original,count)\n",
    "\n",
    "s=\"aaaaAkkkk\"\n",
    "is_more_vowels(s,s)"
   ]
  },
  {
   "cell_type": "markdown",
   "metadata": {},
   "source": [
    "Write a short recursive Python function that rearranges a sequence of integer values so that all the even values appear before all the odd values."
   ]
  },
  {
   "cell_type": "markdown",
   "metadata": {},
   "source": []
  },
  {
   "cell_type": "code",
   "execution_count": 5,
   "metadata": {},
   "outputs": [
    {
     "data": {
      "text/plain": [
       "'246444353531'"
      ]
     },
     "execution_count": 5,
     "metadata": {},
     "output_type": "execute_result"
    }
   ],
   "source": [
    "def arrange_even_odd(S,num=''):\n",
    "    S=str(S)\n",
    "    if len(S)==0:\n",
    "        return ''\n",
    "    if int(S[0])%2==0:\n",
    "        return S[0]+arrange_even_odd(S[1:],num)\n",
    "    else:\n",
    "        return arrange_even_odd(S[1:],num)+S[0]\n",
    "\n",
    "\n",
    "s=124634534534\n",
    "arrange_even_odd(s)"
   ]
  },
  {
   "cell_type": "code",
   "execution_count": 8,
   "metadata": {},
   "outputs": [
    {
     "name": "stdout",
     "output_type": "stream",
     "text": [
      "[2, 4, 6, 4, 4, 4, 3, 5, 3, 5, 3, 1]\n"
     ]
    }
   ],
   "source": [
    "def arrange_even_odd(S):\n",
    "   \n",
    "    if len(S) == 0:\n",
    "        return []\n",
    "    \n",
    "  \n",
    "    if S[0] % 2 == 0:\n",
    "        return [S[0]] + arrange_even_odd(S[1:]) \n",
    "    else:\n",
    "        return arrange_even_odd(S[1:]) + [S[0]]  \n",
    "\n",
    "s = [1, 2, 4, 6, 3, 4, 5, 3, 4, 5, 3, 4] \n",
    "result = arrange_even_odd(s)\n",
    "print(result)\n"
   ]
  },
  {
   "cell_type": "markdown",
   "metadata": {},
   "source": [
    " Given an unsorted sequence, S, of integers and an integer k, describe are cursive algorithm for rearranging the elements in S so that all elements less than or equal to k come before any elements larger than k.What is the running time of your algorithm on a sequence of n values?"
   ]
  },
  {
   "cell_type": "code",
   "execution_count": 29,
   "metadata": {},
   "outputs": [
    {
     "name": "stdout",
     "output_type": "stream",
     "text": [
      "[2, 5, 3, 4, 3, 2, 5, 2, 6, 90, 8, 7, 9, 7, 7, 35, 50, 9]\n",
      "The time taken is  99.18212890625 micro second\n"
     ]
    }
   ],
   "source": [
    "import time\n",
    "def sort_for_k(S,k):\n",
    "    if len(S)==0:\n",
    "        return []\n",
    "    if S[0]<=k:\n",
    "        return [S[0]]+sort_for_k(S[1:],k)\n",
    "    else:\n",
    "        return sort_for_k(S[1:],k)+[S[0]]\n",
    "\n",
    "start_time = time.time()\n",
    "S=[2,9,50,35,5,3,7,4,3,7,9,2,5,7,8,90,6,2]\n",
    "k=5\n",
    "\n",
    "sorted=sort_for_k(S,k)\n",
    "end_time = time.time()\n",
    "\n",
    "print(sorted)\n",
    "print(\"The time taken is \", (end_time-start_time)*10**6,'micro second')\n"
   ]
  },
  {
   "cell_type": "markdown",
   "metadata": {},
   "source": [
    "Suppose you are given an n-element sequence, S, containing distinct integers that are listed in increasing order. Given a number k, describe a recursive algorithm to find two integers in S that sum to k, if such a pair exists. What is the running time of your algorithm?"
   ]
  },
  {
   "cell_type": "code",
   "execution_count": 34,
   "metadata": {},
   "outputs": [
    {
     "data": {
      "text/plain": [
       "'No pair'"
      ]
     },
     "execution_count": 34,
     "metadata": {},
     "output_type": "execute_result"
    }
   ],
   "source": [
    "# for unsorted code\n",
    "def sum_to_k(S,k):\n",
    "    if len(S)==0:\n",
    "        return \"No pair\"\n",
    "    if S[0]>k:\n",
    "        return sum_to_k(S[1:],k)\n",
    "    \n",
    "    for i in range(1,len(S)):\n",
    "        if S[0]+ S[i]==k:\n",
    "            return S[0],S[i]\n",
    "    return sum_to_k(S[1:],k)\n",
    "\n",
    "\n",
    "S=[1,4,3,5,3,32,7,9,6,9,6,3,2,7,0,1,8]\n",
    "k=16\n",
    "\n",
    "sum_to_k(S,k)"
   ]
  },
  {
   "cell_type": "code",
   "execution_count": 4,
   "metadata": {},
   "outputs": [
    {
     "name": "stdout",
     "output_type": "stream",
     "text": [
      "No pair\n"
     ]
    }
   ],
   "source": [
    "# for sorted code \n",
    "# Modified Binary Search Approach\n",
    "def sum_to_k(S,k,start=1,end=None):\n",
    "    if end is None:\n",
    "        end = len(S) - 1\n",
    "    if len(S)==0:\n",
    "        return 'No pair'\n",
    "\n",
    "    if start > end:\n",
    "        return sum_to_k(S[1:],k)\n",
    "    else:\n",
    "        mid=(start+end)//2\n",
    "        if S[mid]+ S[0]==k:\n",
    "            return S[mid], S[0]\n",
    "        elif k > S[mid]+ S[0]:\n",
    "            return sum_to_k(S,k,mid+1,end)\n",
    "        else:\n",
    "            return sum_to_k(S,k,start,mid-1)\n",
    "\n",
    "\n",
    "S=sorted([1,4,3,5,3,32,7,9,6,9,6,3,2,7,0,1,8])\n",
    "k=30\n",
    "\n",
    "result=sum_to_k(S,k)\n",
    "print(result)"
   ]
  },
  {
   "cell_type": "code",
   "execution_count": 5,
   "metadata": {},
   "outputs": [
    {
     "name": "stdout",
     "output_type": "stream",
     "text": [
      "No pair\n"
     ]
    }
   ],
   "source": [
    "# Two-pointer Approach\n",
    "# done by GPT\n",
    "\n",
    "def sum_to_k(S, k, left=0, right=None):\n",
    "\n",
    "    if right is None:\n",
    "        right = len(S) - 1\n",
    "\n",
    "    if left >= right:\n",
    "        return \"No pair\"\n",
    "    \n",
    "    # Calculate the sum of the elements at the two pointers\n",
    "    current_sum = S[left] + S[right]\n",
    "\n",
    "    # If the sum matches k, return the pair\n",
    "    if current_sum == k:\n",
    "        return S[left], S[right]\n",
    "    \n",
    "    # If the current sum is less than k, move the left pointer to the right\n",
    "    elif current_sum < k:\n",
    "        return sum_to_k(S, k, left + 1, right)\n",
    "    \n",
    "    # If the current sum is greater than k, move the right pointer to the left\n",
    "    else:\n",
    "        return sum_to_k(S, k, left, right - 1)\n",
    "\n",
    "# Example usage with a sorted list\n",
    "S = sorted([1, 4, 3, 5, 32, 7, 9, 6, 8])  # Ensure the list is sorted\n",
    "k = 30\n",
    "\n",
    "print(sum_to_k(S, k))\n"
   ]
  },
  {
   "cell_type": "code",
   "execution_count": 14,
   "metadata": {},
   "outputs": [
    {
     "name": "stdout",
     "output_type": "stream",
     "text": [
      "No pair\n"
     ]
    }
   ],
   "source": [
    "\n",
    "def sum_to_k(S, k, left=0, right=None):\n",
    "\n",
    "    if right is None :\n",
    "        right = len(S) - 1\n",
    "      \n",
    "\n",
    "    if left >= right:\n",
    "        return \"No pair\"\n",
    "    \n",
    "    current_sum = S[left] + S[right]\n",
    "\n",
    "    if current_sum == k:\n",
    "        return S[left], S[right]\n",
    "    \n",
    "\n",
    "    elif current_sum < k:\n",
    "        mid=(left+right)//2\n",
    "        if S[mid]+S[right] ==k:\n",
    "            return S[left], S[right]\n",
    "        elif S[mid]+S[right] <k :\n",
    "            return sum_to_k(S,k,mid+1,right)\n",
    "        else:\n",
    "            return sum_to_k(S, k, mid-1, right)\n",
    "    \n",
    "    # If the current sum is greater than k, move the right pointer to the left\n",
    "    else:\n",
    "        return sum_to_k(S, k, left, right - 1)\n",
    "S = sorted([1, 4, 3, 5, 32, 7, 9, 6, 8])  \n",
    "k = 16\n",
    "\n",
    "print(sum_to_k(S, k))\n"
   ]
  },
  {
   "cell_type": "markdown",
   "metadata": {},
   "source": [
    " Develop a nonrecursive implementation of the version of power from Code Fragment 4.12 that uses repeated squaring."
   ]
  },
  {
   "cell_type": "code",
   "execution_count": 15,
   "metadata": {},
   "outputs": [
    {
     "name": "stdout",
     "output_type": "stream",
     "text": [
      "16\n"
     ]
    }
   ],
   "source": [
    "def power(x, n):\n",
    "    result = 1\n",
    "    base = x\n",
    "    \n",
    "    while n > 0:\n",
    "        if n % 2 == 1:\n",
    "            result *= base \n",
    "        base *= base \n",
    "        n //= 2  \n",
    "        \n",
    "    return result\n",
    "\n",
    "\n",
    "print(power(2, 4)) \n"
   ]
  }
 ],
 "metadata": {
  "kernelspec": {
   "display_name": "Python 3",
   "language": "python",
   "name": "python3"
  },
  "language_info": {
   "codemirror_mode": {
    "name": "ipython",
    "version": 3
   },
   "file_extension": ".py",
   "mimetype": "text/x-python",
   "name": "python",
   "nbconvert_exporter": "python",
   "pygments_lexer": "ipython3",
   "version": "3.12.1"
  }
 },
 "nbformat": 4,
 "nbformat_minor": 2
}
